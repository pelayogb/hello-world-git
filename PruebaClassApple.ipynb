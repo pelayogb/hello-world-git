{
  "nbformat": 4,
  "nbformat_minor": 0,
  "metadata": {
    "colab": {
      "name": "Untitled0.ipynb",
      "provenance": [],
      "authorship_tag": "ABX9TyNHnW3hdBW5VQLkOC/w+jE3",
      "include_colab_link": true
    },
    "kernelspec": {
      "name": "python3",
      "display_name": "Python 3"
    },
    "language_info": {
      "name": "python"
    }
  },
  "cells": [
    {
      "cell_type": "markdown",
      "metadata": {
        "id": "view-in-github",
        "colab_type": "text"
      },
      "source": [
        "<a href=\"https://colab.research.google.com/github/pelayogb/hello-world-git/blob/main/PruebaClassApple.ipynb\" target=\"_parent\"><img src=\"https://colab.research.google.com/assets/colab-badge.svg\" alt=\"Open In Colab\"/></a>"
      ]
    },
    {
      "cell_type": "code",
      "execution_count": 18,
      "metadata": {
        "colab": {
          "base_uri": "https://localhost:8080/"
        },
        "id": "Q_5U5473PErH",
        "outputId": "3e1f57d9-ef47-4935-f202-3b5549eb7392"
      },
      "outputs": [
        {
          "output_type": "stream",
          "name": "stdout",
          "text": [
            "The color of apple is green\n",
            "The color of apple is red\n",
            "The flavor of apple is sweet\n"
          ]
        }
      ],
      "source": [
        "class Food: \n",
        "  def __init__(self, name: str, color: str):\n",
        "   self.name = name\n",
        "   self.color = color\n",
        "\n",
        "apple = Food(\"apple\", \"red\")\n",
        "\n",
        "print( \"The color of apple is\", getattr(apple, \"yellow\", \"green\"))\n",
        "\n",
        "print( \"The color of apple is\", getattr(apple, \"color\", \"yellow\"))\n",
        "\n",
        "\n",
        "print (\"The flavor of apple is\", getattr(apple, \"flavor\", \"sweet\"))\n",
        "\n",
        "#print(\"The flavor of apple is\", apple.sweet)"
      ]
    }
  ]
}